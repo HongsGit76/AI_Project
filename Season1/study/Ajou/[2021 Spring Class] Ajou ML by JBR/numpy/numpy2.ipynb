{
 "metadata": {
  "language_info": {
   "codemirror_mode": {
    "name": "ipython",
    "version": 3
   },
   "file_extension": ".py",
   "mimetype": "text/x-python",
   "name": "python",
   "nbconvert_exporter": "python",
   "pygments_lexer": "ipython3",
   "version": "3.8.8"
  },
  "orig_nbformat": 2,
  "kernelspec": {
   "name": "python388jvsc74a57bd0043a2eb633b695e71b0cebba0f503bfeea657ab62891ef0d6c335ec0d52c3a16",
   "display_name": "Python 3.8.8 64-bit ('study': conda)",
   "language": "python"
  }
 },
 "nbformat": 4,
 "nbformat_minor": 2,
 "cells": [
  {
   "cell_type": "code",
   "execution_count": 10,
   "metadata": {},
   "outputs": [
    {
     "output_type": "stream",
     "name": "stdout",
     "text": [
      "[[5. 9. 1. 9.]\n [3. 4. 8. 4.]\n [5. 0. 7. 5.]]\n(3, 4)\n"
     ]
    }
   ],
   "source": [
    "import numpy as np\n",
    "\n",
    "rg = np.random.default_rng(1)\n",
    "a = np.floor(10*rg.random((3,4)))\n",
    "print(a)\n",
    "print(a.shape)"
   ]
  },
  {
   "cell_type": "code",
   "execution_count": 11,
   "metadata": {},
   "outputs": [
    {
     "output_type": "stream",
     "name": "stdout",
     "text": [
      "(12,)\n(6, 2)\n(2, 6)\n[[5. 9. 1. 9.]\n [3. 4. 8. 4.]\n [5. 0. 7. 5.]]\n[[5. 9. 1. 9. 3. 4.]\n [8. 4. 5. 0. 7. 5.]]\n"
     ]
    }
   ],
   "source": [
    "b = a.ravel()  # 1차원으로 바꾸어줌\n",
    "print(b.shape)\n",
    "\n",
    "c = a.reshape(6,2)\n",
    "print(c.shape)\n",
    "\n",
    "d = c.T  # transpose\n",
    "print(d.shape)\n",
    "\n",
    "print(a)\n",
    "a.resize((2,6))\n",
    "print(a)\n",
    "\n",
    "# a.reshape : a에 아무런 변화가 없음\n",
    "# a.resize : a를 직접 바꿈\n"
   ]
  },
  {
   "cell_type": "code",
   "execution_count": 12,
   "metadata": {},
   "outputs": [
    {
     "output_type": "stream",
     "name": "stdout",
     "text": [
      "[[5. 9. 1. 9.]\n [3. 4. 8. 4.]\n [5. 0. 7. 5.]]\n"
     ]
    }
   ],
   "source": [
    "b = a.reshape(3,-1)  # -1 : 딱맞게 떨어지게 만들어줌\n",
    "print(b)"
   ]
  },
  {
   "cell_type": "code",
   "execution_count": 22,
   "metadata": {},
   "outputs": [
    {
     "output_type": "stream",
     "name": "stdout",
     "text": [
      "[[8. 8.]\n [8. 4.]]\n2.0\n2.0\n3.0\n[[2. 0.]\n [6. 7.]]\n[[8. 8.]\n [8. 4.]\n [2. 0.]\n [6. 7.]]\n[[8. 8. 2. 0.]\n [8. 4. 6. 7.]]\n"
     ]
    },
    {
     "output_type": "execute_result",
     "data": {
      "text/plain": [
       "array([[8., 8., 2., 0.],\n",
       "       [8., 4., 6., 7.]])"
      ]
     },
     "metadata": {},
     "execution_count": 22
    }
   ],
   "source": [
    "a = np.floor(10*rg.random((2,2)))  # floor : 내림\n",
    "print(a)\n",
    "print(np.floor(2.8))\n",
    "print(np.round(2.3))\n",
    "print(np.ceil(2.3))\n",
    "\n",
    "b = np.floor(10*rg.random((2,2)))\n",
    "print(b)\n",
    "\n",
    "x = np.vstack((a,b))  # vertical: 세로로 쌓다 \n",
    "y = np.hstack((a,b))  # horisontal: 가로로 쌓다\n",
    "print(x)\n",
    "print(y)\n",
    "np.column_stack((a, b))  # 가로방향으로 stack\n"
   ]
  },
  {
   "cell_type": "code",
   "execution_count": 25,
   "metadata": {},
   "outputs": [
    {
     "output_type": "stream",
     "name": "stdout",
     "text": [
      "[[4.]\n [2.]]\n[4. 2.]\n"
     ]
    }
   ],
   "source": [
    "from numpy import newaxis\n",
    "a = np.array([4.,2.])\n",
    "\n",
    "print(a[:,newaxis])\n",
    "print(a)"
   ]
  },
  {
   "cell_type": "code",
   "execution_count": 26,
   "metadata": {},
   "outputs": [
    {
     "output_type": "stream",
     "name": "stdout",
     "text": [
      "[[4. 3.]\n [2. 8.]]\n[4. 2. 3. 8.]\n[[4. 3.]\n [2. 8.]]\n[[4. 3.]\n [2. 8.]]\n"
     ]
    }
   ],
   "source": [
    "\n",
    "\n",
    "a = np.array([4.,2.])\n",
    "b = np.array([3.,8.])\n",
    "\n",
    "# 1차원을 2차원으로 바꿔줌\n",
    "print(np.column_stack((a,b)))  # 각각의 어레이를 유지한채 스택\n",
    "print(np.hstack((a,b)))  # 각각의 데이터 하나하나를 스택\n",
    "\n",
    "print(np.column_stack((a[:,newaxis],b[:,newaxis])))\n",
    "print(np.column_stack((a[:,newaxis],b[:,newaxis])))"
   ]
  },
  {
   "cell_type": "code",
   "execution_count": 27,
   "metadata": {},
   "outputs": [
    {
     "output_type": "execute_result",
     "data": {
      "text/plain": [
       "array([1, 2, 3, 0, 4])"
      ]
     },
     "metadata": {},
     "execution_count": 27
    }
   ],
   "source": [
    "np.r_[1:4,0,4]"
   ]
  },
  {
   "cell_type": "code",
   "execution_count": 29,
   "metadata": {},
   "outputs": [
    {
     "output_type": "stream",
     "name": "stdout",
     "text": [
      "[[8. 2. 2. 6. 8. 9. 1. 4. 8. 4. 5. 0.]\n [6. 9. 8. 8. 6. 2. 7. 2. 8. 0. 8. 1.]]\n"
     ]
    }
   ],
   "source": [
    "a = np.floor(10*rg.random((2,12)))\n",
    "print(a)"
   ]
  },
  {
   "cell_type": "code",
   "execution_count": 31,
   "metadata": {},
   "outputs": [
    {
     "output_type": "stream",
     "name": "stdout",
     "text": [
      "[array([[8., 2., 2., 6.],\n       [6., 9., 8., 8.]]), array([[8., 9., 1., 4.],\n       [6., 2., 7., 2.]]), array([[8., 4., 5., 0.],\n       [8., 0., 8., 1.]])]\n[array([[8., 2., 2.],\n       [6., 9., 8.]]), array([[6.],\n       [8.]]), array([[8., 9., 1., 4., 8., 4., 5., 0.],\n       [6., 2., 7., 2., 8., 0., 8., 1.]])]\n"
     ]
    }
   ],
   "source": [
    "# split\n",
    "b = np.hsplit(a,3) # 세로방향\n",
    "print(b) \n",
    "b = np.hsplit(a,(3,4))\n",
    "print(b)"
   ]
  },
  {
   "cell_type": "code",
   "execution_count": 34,
   "metadata": {},
   "outputs": [
    {
     "output_type": "stream",
     "name": "stdout",
     "text": [
      "[[ 0  1  2  3]\n [ 4  5  6  7]\n [ 8  9 10 11]]\n"
     ]
    },
    {
     "output_type": "execute_result",
     "data": {
      "text/plain": [
       "True"
      ]
     },
     "metadata": {},
     "execution_count": 34
    }
   ],
   "source": [
    "# copy\n",
    "\n",
    "a = np.arange(12).reshape((3,4))\n",
    "print(a)\n",
    "b=a\n",
    "b is a"
   ]
  },
  {
   "cell_type": "code",
   "execution_count": 35,
   "metadata": {},
   "outputs": [
    {
     "output_type": "stream",
     "name": "stdout",
     "text": [
      "1958957822880\n1958957822880\n"
     ]
    }
   ],
   "source": [
    "def f(x):\n",
    "    print(id(x))\n",
    "\n",
    "print(id(a))\n",
    "f(a)"
   ]
  },
  {
   "cell_type": "code",
   "execution_count": 41,
   "metadata": {},
   "outputs": [
    {
     "output_type": "stream",
     "name": "stdout",
     "text": [
      "False\nFalse\nFalse\n"
     ]
    }
   ],
   "source": [
    "# shallow copy\n",
    "\n",
    "## a 와 똑같은 데이터를 가진 어레이를 생성하지만 같지는 않다.\n",
    "fuck = a.view()\n",
    "## 그대신 fuck의 shape을 바꾸면 a의 shape은 바뀌지 않지만, fuck의 데이터를 바꾸면 a의 데이터도 바뀜\n",
    "\n",
    "print(fuck is a)\n",
    "print(fuck.base is a)\n",
    "print(fuck.flags.owndata)"
   ]
  },
  {
   "cell_type": "code",
   "execution_count": 42,
   "metadata": {},
   "outputs": [
    {
     "output_type": "execute_result",
     "data": {
      "text/plain": [
       "False"
      ]
     },
     "metadata": {},
     "execution_count": 42
    }
   ],
   "source": [
    "# deep copy\n",
    "d = a.copy()\n",
    "d is a"
   ]
  },
  {
   "cell_type": "code",
   "execution_count": 43,
   "metadata": {},
   "outputs": [
    {
     "output_type": "execute_result",
     "data": {
      "text/plain": [
       "False"
      ]
     },
     "metadata": {},
     "execution_count": 43
    }
   ],
   "source": [
    "d.base is a"
   ]
  },
  {
   "cell_type": "code",
   "execution_count": 44,
   "metadata": {},
   "outputs": [
    {
     "output_type": "execute_result",
     "data": {
      "text/plain": [
       "0"
      ]
     },
     "metadata": {},
     "execution_count": 44
    }
   ],
   "source": [
    "d[0,0]"
   ]
  },
  {
   "cell_type": "code",
   "execution_count": 46,
   "metadata": {},
   "outputs": [
    {
     "output_type": "stream",
     "name": "stdout",
     "text": [
      "[ 0  1  2  3  4  5  6  7  8  9 10 11 12 13 14 15 16 17 18 19 20 21 22 23\n 24 25 26 27 28 29 30 31 32 33 34 35 36 37 38 39 40 41 42 43 44 45 46 47\n 48 49 50 51 52 53 54 55 56 57 58 59 60 61 62 63 64 65 66 67 68 69 70 71\n 72 73 74 75 76 77 78 79 80 81 82 83 84 85 86 87 88 89 90 91 92 93 94 95\n 96 97 98 99]\n"
     ]
    }
   ],
   "source": [
    "a = np.arange(int(1e8))\n",
    "b = a[:100].copy()\n",
    "del a\n",
    "print(b)"
   ]
  },
  {
   "cell_type": "code",
   "execution_count": 48,
   "metadata": {},
   "outputs": [
    {
     "output_type": "stream",
     "name": "stdout",
     "text": [
      "[  0   1   4   9  16  25  36  49  64  81 100 121]\n[ 1  1  9 25 64]\n[[ 9 16]\n [81 49]]\n"
     ]
    }
   ],
   "source": [
    "a = np.arange(12)**2\n",
    "i = np.array([1,1,3,5,8])\n",
    "print(a)\n",
    "print(a[i])\n",
    "\n",
    "# dimention을 바꿀수 있다.\n",
    "j = np.array([[3,4],[9,7]])\n",
    "print(a[j])"
   ]
  },
  {
   "cell_type": "code",
   "execution_count": 49,
   "metadata": {},
   "outputs": [
    {
     "output_type": "execute_result",
     "data": {
      "text/plain": [
       "array([[[  0,   0,   0],\n",
       "        [255,   0,   0],\n",
       "        [  0, 255,   0],\n",
       "        [  0,   0,   0]],\n",
       "\n",
       "       [[  0,   0,   0],\n",
       "        [  0,   0, 255],\n",
       "        [255, 255, 255],\n",
       "        [  0,   0,   0]]])"
      ]
     },
     "metadata": {},
     "execution_count": 49
    }
   ],
   "source": [
    "palette = np.array([\n",
    "    [0,0,0],       # black \n",
    "    [255,0,0],     # red\n",
    "    [0,255,0],     # green \n",
    "    [0,0,255],     # blue\n",
    "    [255,255,255]  # white\n",
    "])\n",
    "\n",
    "image = np.array([[0,1,2,0],[0,3,4,0]])\n",
    "palette[image]"
   ]
  },
  {
   "cell_type": "code",
   "execution_count": null,
   "metadata": {},
   "outputs": [],
   "source": [
    "a = np.arange(12).reshape(3,4)\n",
    "print(a)\n",
    "i = "
   ]
  }
 ]
}