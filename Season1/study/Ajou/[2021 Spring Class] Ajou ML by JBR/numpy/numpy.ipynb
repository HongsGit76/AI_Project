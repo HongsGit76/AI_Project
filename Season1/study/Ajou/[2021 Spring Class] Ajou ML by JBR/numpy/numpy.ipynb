{
 "metadata": {
  "language_info": {
   "codemirror_mode": {
    "name": "ipython",
    "version": 3
   },
   "file_extension": ".py",
   "mimetype": "text/x-python",
   "name": "python",
   "nbconvert_exporter": "python",
   "pygments_lexer": "ipython3",
   "version": "3.8.8"
  },
  "orig_nbformat": 2,
  "kernelspec": {
   "name": "python388jvsc74a57bd0043a2eb633b695e71b0cebba0f503bfeea657ab62891ef0d6c335ec0d52c3a16",
   "display_name": "Python 3.8.8 64-bit ('study': conda)"
  }
 },
 "nbformat": 4,
 "nbformat_minor": 2,
 "cells": [
  {
   "cell_type": "code",
   "execution_count": 1,
   "metadata": {},
   "outputs": [],
   "source": [
    "import numpy as np"
   ]
  },
  {
   "cell_type": "code",
   "execution_count": 4,
   "metadata": {},
   "outputs": [
    {
     "output_type": "stream",
     "name": "stdout",
     "text": [
      "[[ 0  1  2  3  4]\n [ 5  6  7  8  9]\n [10 11 12 13 14]]\n(3, 5)\n"
     ]
    },
    {
     "output_type": "execute_result",
     "data": {
      "text/plain": [
       "array([[ 0,  1,  2,  3,  4],\n",
       "       [ 5,  6,  7,  8,  9],\n",
       "       [10, 11, 12, 13, 14]])"
      ]
     },
     "metadata": {},
     "execution_count": 4
    }
   ],
   "source": [
    "a = np.arange(15).reshape(3,5)\n",
    "print(a)\n",
    "print(a.shape)\n",
    "a"
   ]
  },
  {
   "cell_type": "code",
   "execution_count": 10,
   "metadata": {},
   "outputs": [
    {
     "output_type": "stream",
     "name": "stdout",
     "text": [
      "2\nint32\n4\n15\n"
     ]
    },
    {
     "output_type": "execute_result",
     "data": {
      "text/plain": [
       "numpy.ndarray"
      ]
     },
     "metadata": {},
     "execution_count": 10
    }
   ],
   "source": [
    "print(a.ndim)\n",
    "print(a.dtype.name)\n",
    "print(a.itemsize)\n",
    "print(a.size)\n",
    "type(a)"
   ]
  },
  {
   "cell_type": "code",
   "execution_count": 14,
   "metadata": {},
   "outputs": [
    {
     "output_type": "stream",
     "name": "stdout",
     "text": [
      "[2 3 4]\nint32\nfloat64\n"
     ]
    }
   ],
   "source": [
    "a = np.array([2,3,4])\n",
    "print(a)\n",
    "print(a.dtype)\n",
    "b = np.array([1.2, 3.5, 5.1])\n",
    "print(b.dtype)"
   ]
  },
  {
   "cell_type": "code",
   "execution_count": 15,
   "metadata": {},
   "outputs": [],
   "source": [
    "a = np.array([1,2,3,4])"
   ]
  },
  {
   "cell_type": "code",
   "execution_count": 17,
   "metadata": {},
   "outputs": [
    {
     "output_type": "stream",
     "name": "stdout",
     "text": [
      "[[1.3 2.  3. ]\n [4.  5.  6. ]]\n"
     ]
    }
   ],
   "source": [
    "b = np.array([(1.3,2,3),(4,5,6)])\n",
    "print(b)"
   ]
  },
  {
   "cell_type": "code",
   "execution_count": 18,
   "metadata": {},
   "outputs": [
    {
     "output_type": "execute_result",
     "data": {
      "text/plain": [
       "array([[1.+0.j, 2.+0.j],\n",
       "       [3.+0.j, 4.+0.j]])"
      ]
     },
     "metadata": {},
     "execution_count": 18
    }
   ],
   "source": [
    "c = np.array([[1,2],[3,4]], dtype=complex)\n",
    "c"
   ]
  },
  {
   "cell_type": "code",
   "execution_count": 19,
   "metadata": {},
   "outputs": [
    {
     "output_type": "execute_result",
     "data": {
      "text/plain": [
       "array([[0., 0., 0., 0.],\n",
       "       [0., 0., 0., 0.],\n",
       "       [0., 0., 0., 0.]])"
      ]
     },
     "metadata": {},
     "execution_count": 19
    }
   ],
   "source": [
    "np.zeros((3,4))"
   ]
  },
  {
   "cell_type": "code",
   "execution_count": 20,
   "metadata": {},
   "outputs": [
    {
     "output_type": "execute_result",
     "data": {
      "text/plain": [
       "array([[[1, 1, 1, 1],\n",
       "        [1, 1, 1, 1],\n",
       "        [1, 1, 1, 1]],\n",
       "\n",
       "       [[1, 1, 1, 1],\n",
       "        [1, 1, 1, 1],\n",
       "        [1, 1, 1, 1]]], dtype=int16)"
      ]
     },
     "metadata": {},
     "execution_count": 20
    }
   ],
   "source": [
    "np.ones((2,3,4), dtype=np.int16)"
   ]
  },
  {
   "cell_type": "code",
   "execution_count": 22,
   "metadata": {},
   "outputs": [
    {
     "output_type": "execute_result",
     "data": {
      "text/plain": [
       "array([[6.23042070e-307, 4.67296746e-307, 1.69121096e-306,\n",
       "        7.56593017e-307, 8.34441742e-308],\n",
       "       [8.90104239e-307, 1.33511290e-306, 1.69118108e-306,\n",
       "        2.22520967e-306, 8.01097889e-307],\n",
       "       [1.78020169e-306, 7.56601165e-307, 1.02359984e-306,\n",
       "        1.15710088e-306, 6.23056330e-307],\n",
       "       [1.60219578e-306, 7.56601165e-307, 6.23061763e-307,\n",
       "        9.34607074e-307, 8.90098127e-307],\n",
       "       [8.90108313e-307, 6.23053954e-307, 2.22523004e-306,\n",
       "        2.22522596e-306, 2.22809558e-312]])"
      ]
     },
     "metadata": {},
     "execution_count": 22
    }
   ],
   "source": [
    "np.empty((5,5))"
   ]
  },
  {
   "cell_type": "code",
   "execution_count": 24,
   "metadata": {},
   "outputs": [
    {
     "output_type": "execute_result",
     "data": {
      "text/plain": [
       "array([10, 15, 20, 25])"
      ]
     },
     "metadata": {},
     "execution_count": 24
    }
   ],
   "source": [
    "np.arange(10,30,5)  # 시작, 끝, 간격"
   ]
  },
  {
   "cell_type": "code",
   "execution_count": 25,
   "metadata": {},
   "outputs": [
    {
     "output_type": "execute_result",
     "data": {
      "text/plain": [
       "array([0. , 0.3, 0.6, 0.9, 1.2, 1.5, 1.8])"
      ]
     },
     "metadata": {},
     "execution_count": 25
    }
   ],
   "source": [
    "np.arange(0,2,0.3)"
   ]
  },
  {
   "cell_type": "code",
   "execution_count": 27,
   "metadata": {},
   "outputs": [
    {
     "output_type": "execute_result",
     "data": {
      "text/plain": [
       "array([0.  , 0.25, 0.5 , 0.75, 1.  , 1.25, 1.5 , 1.75, 2.  ])"
      ]
     },
     "metadata": {},
     "execution_count": 27
    }
   ],
   "source": [
    "from numpy import pi\n",
    "np.linspace(0,2,9) # 공간을 linear하게 나눔"
   ]
  },
  {
   "cell_type": "code",
   "execution_count": 31,
   "metadata": {},
   "outputs": [
    {
     "output_type": "stream",
     "name": "stdout",
     "text": [
      "[ 0.00000000e+00  6.34239197e-02  1.26592454e-01  1.89251244e-01\n  2.51147987e-01  3.12033446e-01  3.71662456e-01  4.29794912e-01\n  4.86196736e-01  5.40640817e-01  5.92907929e-01  6.42787610e-01\n  6.90079011e-01  7.34591709e-01  7.76146464e-01  8.14575952e-01\n  8.49725430e-01  8.81453363e-01  9.09631995e-01  9.34147860e-01\n  9.54902241e-01  9.71811568e-01  9.84807753e-01  9.93838464e-01\n  9.98867339e-01  9.99874128e-01  9.96854776e-01  9.89821442e-01\n  9.78802446e-01  9.63842159e-01  9.45000819e-01  9.22354294e-01\n  8.95993774e-01  8.66025404e-01  8.32569855e-01  7.95761841e-01\n  7.55749574e-01  7.12694171e-01  6.66769001e-01  6.18158986e-01\n  5.67059864e-01  5.13677392e-01  4.58226522e-01  4.00930535e-01\n  3.42020143e-01  2.81732557e-01  2.20310533e-01  1.58001396e-01\n  9.50560433e-02  3.17279335e-02 -3.17279335e-02 -9.50560433e-02\n -1.58001396e-01 -2.20310533e-01 -2.81732557e-01 -3.42020143e-01\n -4.00930535e-01 -4.58226522e-01 -5.13677392e-01 -5.67059864e-01\n -6.18158986e-01 -6.66769001e-01 -7.12694171e-01 -7.55749574e-01\n -7.95761841e-01 -8.32569855e-01 -8.66025404e-01 -8.95993774e-01\n -9.22354294e-01 -9.45000819e-01 -9.63842159e-01 -9.78802446e-01\n -9.89821442e-01 -9.96854776e-01 -9.99874128e-01 -9.98867339e-01\n -9.93838464e-01 -9.84807753e-01 -9.71811568e-01 -9.54902241e-01\n -9.34147860e-01 -9.09631995e-01 -8.81453363e-01 -8.49725430e-01\n -8.14575952e-01 -7.76146464e-01 -7.34591709e-01 -6.90079011e-01\n -6.42787610e-01 -5.92907929e-01 -5.40640817e-01 -4.86196736e-01\n -4.29794912e-01 -3.71662456e-01 -3.12033446e-01 -2.51147987e-01\n -1.89251244e-01 -1.26592454e-01 -6.34239197e-02 -2.44929360e-16]\n"
     ]
    }
   ],
   "source": [
    "x = np.linspace(0,2*pi,100)\n",
    "f = np.sin(x)\n",
    "print(f)"
   ]
  },
  {
   "cell_type": "code",
   "execution_count": 32,
   "metadata": {},
   "outputs": [
    {
     "output_type": "stream",
     "name": "stdout",
     "text": [
      "[[   0    1    2 ...   97   98   99]\n [ 100  101  102 ...  197  198  199]\n [ 200  201  202 ...  297  298  299]\n ...\n [9700 9701 9702 ... 9797 9798 9799]\n [9800 9801 9802 ... 9897 9898 9899]\n [9900 9901 9902 ... 9997 9998 9999]]\n"
     ]
    }
   ],
   "source": [
    "print(np.arange(10000).reshape(100,100))"
   ]
  },
  {
   "cell_type": "code",
   "execution_count": 35,
   "metadata": {},
   "outputs": [
    {
     "output_type": "stream",
     "name": "stdout",
     "text": [
      "[[   0    1    2 ...   97   98   99]\n [ 100  101  102 ...  197  198  199]\n [ 200  201  202 ...  297  298  299]\n ...\n [9700 9701 9702 ... 9797 9798 9799]\n [9800 9801 9802 ... 9897 9898 9899]\n [9900 9901 9902 ... 9997 9998 9999]]\n"
     ]
    }
   ],
   "source": [
    "np.set_printoptions(threshold=100)\n",
    "print(np.arange(10000).reshape(100,100))"
   ]
  },
  {
   "cell_type": "code",
   "execution_count": 38,
   "metadata": {},
   "outputs": [
    {
     "output_type": "stream",
     "name": "stdout",
     "text": [
      "[20 30 40 50]\n[0 1 2 3]\n[20 29 38 47]\n"
     ]
    }
   ],
   "source": [
    "a = np.array([20,30,40,50])\n",
    "b = np.arange(4)\n",
    "b\n",
    "c = a-b\n",
    "c  # element-wise\n",
    "print(a)\n",
    "print(b)\n",
    "print(c)"
   ]
  },
  {
   "cell_type": "code",
   "execution_count": 40,
   "metadata": {},
   "outputs": [
    {
     "output_type": "execute_result",
     "data": {
      "text/plain": [
       "array([0, 1, 4, 9], dtype=int32)"
      ]
     },
     "metadata": {},
     "execution_count": 40
    }
   ],
   "source": [
    "b**2"
   ]
  },
  {
   "cell_type": "code",
   "execution_count": 41,
   "metadata": {},
   "outputs": [
    {
     "output_type": "stream",
     "name": "stdout",
     "text": [
      "[ 0.91294525 -0.98803162  0.74511316 -0.26237485]\n[ 9.12945251 -9.88031624  7.4511316  -2.62374854]\n"
     ]
    },
    {
     "output_type": "execute_result",
     "data": {
      "text/plain": [
       "array([ True,  True, False, False])"
      ]
     },
     "metadata": {},
     "execution_count": 41
    }
   ],
   "source": [
    "print(np.sin(a))\n",
    "print(10 * np.sin(a))\n",
    "a<35"
   ]
  },
  {
   "cell_type": "code",
   "execution_count": 42,
   "metadata": {},
   "outputs": [
    {
     "output_type": "execute_result",
     "data": {
      "text/plain": [
       "array([[2, 0],\n",
       "       [0, 4]])"
      ]
     },
     "metadata": {},
     "execution_count": 42
    }
   ],
   "source": [
    "A = np.array([[1,1],[0,1]])\n",
    "B = np.array([[2,0],[3,4]])\n",
    "\n",
    "A*B"
   ]
  },
  {
   "cell_type": "code",
   "execution_count": 45,
   "metadata": {},
   "outputs": [
    {
     "output_type": "stream",
     "name": "stdout",
     "text": [
      "[[5 4]\n [3 4]]\n[[5 4]\n [3 4]]\n"
     ]
    }
   ],
   "source": [
    "#행렬의 곱\n",
    "print(A@B)\n",
    "print(A.dot(B))"
   ]
  },
  {
   "cell_type": "code",
   "execution_count": 53,
   "metadata": {},
   "outputs": [
    {
     "output_type": "stream",
     "name": "stdout",
     "text": [
      "b [[0.51182162 0.9504637  0.14415961]\n [0.94864945 0.31183145 0.42332645]]\na [[3 3 3]\n [3 3 3]]\na [[1 1 1]\n [1 1 1]]\nb [[0.51182162 0.9504637  0.14415961]\n [0.94864945 0.31183145 0.42332645]]\nb_ [[0 0 0]\n [0 0 0]]\na [[3 3 3]\n [3 3 3]]\na_ [[3 3 3]\n [3 3 3]]\n"
     ]
    }
   ],
   "source": [
    "rg = np.random.default_rng(1)  # random seed 같은값이 나옴\n",
    "a = np.ones((2,3), dtype=int)\n",
    "b = rg.random((2,3))  # float로 저장되어 있음\n",
    "print(\"b\",b)\n",
    "a*= 3\n",
    "print(\"a\",a)\n",
    "a = np.ones((2,3), dtype=int)\n",
    "\n",
    "# 정수로 변환\n",
    "b_ = np.int32(b)\n",
    "a += b_\n",
    "print(\"a\",a)\n",
    "print(\"b\",b)\n",
    "print(\"b_\",b_)\n",
    "\n",
    "a = a*3\n",
    "print(\"a\",a)\n",
    "\n",
    "# 실수로 변환\n",
    "a_ = np.float64(a)\n",
    "a_ += b\n",
    "print(\"a_\", a)"
   ]
  },
  {
   "cell_type": "code",
   "execution_count": 54,
   "metadata": {},
   "outputs": [
    {
     "output_type": "stream",
     "name": "stdout",
     "text": [
      "float64\n"
     ]
    },
    {
     "output_type": "execute_result",
     "data": {
      "text/plain": [
       "array([1.        , 2.57079633, 4.14159265])"
      ]
     },
     "metadata": {},
     "execution_count": 54
    }
   ],
   "source": [
    "a = np.ones(3, dtype=np.int32)\n",
    "b = np.linspace(0,pi,3)\n",
    "print(b.dtype.name)\n",
    "c = a+b # 더정확한 데이터를 통해 더해짐\n",
    "c"
   ]
  },
  {
   "cell_type": "code",
   "execution_count": 58,
   "metadata": {},
   "outputs": [
    {
     "output_type": "stream",
     "name": "stdout",
     "text": [
      "[ 0.54030231+0.84147098j -0.84147098+0.54030231j -0.54030231-0.84147098j]\n"
     ]
    },
    {
     "output_type": "execute_result",
     "data": {
      "text/plain": [
       "'complex128'"
      ]
     },
     "metadata": {},
     "execution_count": 58
    }
   ],
   "source": [
    "d = np.exp(c*1j) # j 는 허수 : 신호처리에서 사용됨\n",
    "print(d)\n",
    "d.dtype.name"
   ]
  },
  {
   "cell_type": "code",
   "execution_count": 59,
   "metadata": {},
   "outputs": [
    {
     "output_type": "stream",
     "name": "stdout",
     "text": [
      "[[0.82770259 0.40919914 0.54959369]\n [0.02755911 0.75351311 0.53814331]]\n3.1057109529998157\n0.027559113243068367\n0.8277025938204418\n"
     ]
    }
   ],
   "source": [
    "a = rg.random((2,3))\n",
    "print(a)\n",
    "print(a.sum())\n",
    "print(a.min())\n",
    "print(a.max())"
   ]
  },
  {
   "cell_type": "code",
   "execution_count": 61,
   "metadata": {},
   "outputs": [
    {
     "output_type": "stream",
     "name": "stdout",
     "text": [
      "[[ 0  1  2  3]\n [ 4  5  6  7]\n [ 8  9 10 11]]\n[12 15 18 21]\n[ 6 22 38]\n"
     ]
    }
   ],
   "source": [
    "b = np.arange(12).reshape(3,4)\n",
    "print(b)\n",
    "print(b.sum(axis=0))\n",
    "print(b.sum(axis=1))"
   ]
  },
  {
   "cell_type": "code",
   "execution_count": 62,
   "metadata": {},
   "outputs": [
    {
     "output_type": "stream",
     "name": "stdout",
     "text": [
      "[0 1 2]\n[1.         2.71828183 7.3890561 ]\n[0.         1.         1.41421356]\nfloat64\n"
     ]
    },
    {
     "output_type": "execute_result",
     "data": {
      "text/plain": [
       "array([2., 0., 6.])"
      ]
     },
     "metadata": {},
     "execution_count": 62
    }
   ],
   "source": [
    "B = np.arange(3)\n",
    "print(B)\n",
    "print(np.exp(B))\n",
    "print(np.sqrt(B))\n",
    "C = np.array([2.,-1.,4.])\n",
    "print(C.dtype)\n",
    "np.add(B,C)"
   ]
  },
  {
   "cell_type": "code",
   "execution_count": 68,
   "metadata": {},
   "outputs": [
    {
     "output_type": "stream",
     "name": "stdout",
     "text": [
      "[  0   1   8  27  64 125 216 343 512 729]\n8\n[ 8 27 64]\n[  0   1   8  27  64 125 216 343 512 729]\n[729 512 343 216 125  64  27   8   1   0]\n0.0\n1.0\n2.0\n3.0\n3.9999999999999996\n5.0\n5.999999999999999\n6.999999999999999\n7.999999999999999\n8.999999999999998\n"
     ]
    }
   ],
   "source": [
    "a = np.arange(10) ** 3\n",
    "print(a)\n",
    "print(a[2])\n",
    "print(a[2:5])\n",
    "a[:6:2]  # 처음부터 6까지 간격을 2로\n",
    "print(a)\n",
    "print(a[::-1]) # 거꾸로 하나씩 돌아오겠다\n",
    "\n",
    "for i in a:\n",
    "    print(i**(1/3.))"
   ]
  },
  {
   "cell_type": "code",
   "execution_count": 73,
   "metadata": {},
   "outputs": [
    {
     "output_type": "stream",
     "name": "stdout",
     "text": [
      "[[ 0  1  2  3]\n [10 11 12 13]\n [20 21 22 23]\n [30 31 32 33]\n [40 41 42 43]]\n23\n[ 1 11 21 31 41]\n[ 1 11 21 31 41]\n[[10 11 12 13]\n [20 21 22 23]]\n"
     ]
    }
   ],
   "source": [
    "def f(x,y):\n",
    "    return 10*x+y\n",
    "\n",
    "b = np.fromfunction(f, (5,4), dtype=int)\n",
    "print(b)\n",
    "print(b[2,3])\n",
    "print(b[0:5,1])\n",
    "print(b[:,1])\n",
    "print(b[1:3,:])"
   ]
  }
 ]
}