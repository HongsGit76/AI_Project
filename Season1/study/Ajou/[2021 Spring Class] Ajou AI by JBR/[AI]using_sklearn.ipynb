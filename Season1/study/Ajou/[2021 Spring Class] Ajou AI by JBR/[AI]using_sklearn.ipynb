{
 "metadata": {
  "language_info": {
   "codemirror_mode": {
    "name": "ipython",
    "version": 3
   },
   "file_extension": ".py",
   "mimetype": "text/x-python",
   "name": "python",
   "nbconvert_exporter": "python",
   "pygments_lexer": "ipython3",
   "version": "3.8.8"
  },
  "orig_nbformat": 2,
  "kernelspec": {
   "name": "python388jvsc74a57bd0043a2eb633b695e71b0cebba0f503bfeea657ab62891ef0d6c335ec0d52c3a16",
   "display_name": "Python 3.8.8 64-bit ('study': conda)",
   "language": "python"
  }
 },
 "nbformat": 4,
 "nbformat_minor": 2,
 "cells": [
  {
   "cell_type": "code",
   "execution_count": 1,
   "metadata": {},
   "outputs": [],
   "source": [
    "import numpy as np\n",
    "\n",
    "test_gallery_source = \"C:/Users/sdat7/home/git_commit/AI_Project/study/Ajou/[2021 Spring Class] Ajou AI by JBR/test_gallery.npy\"\n",
    "test_query_source = \"C:/Users/sdat7/home/git_commit/AI_Project/study/Ajou/[2021 Spring Class] Ajou AI by JBR/test_query.npy\"\n",
    "train_source = \"C:/Users/sdat7/home/git_commit/AI_Project/study/Ajou/[2021 Spring Class] Ajou AI by JBR/train.npy\"\n",
    "train_label_source = \"C:/Users/sdat7/home/git_commit/AI_Project/study/Ajou/[2021 Spring Class] Ajou AI by JBR/train_label.npy\"\n",
    "\n",
    "train = np.load(train_source)\n",
    "train_label = np.load(train_label_source)"
   ]
  },
  {
   "cell_type": "code",
   "execution_count": 2,
   "metadata": {},
   "outputs": [
    {
     "output_type": "stream",
     "name": "stdout",
     "text": [
      "(2000, 512)\n(2000,)\n"
     ]
    }
   ],
   "source": [
    "train = train.reshape(2000, 512)\n",
    "\n",
    "print(train.shape)\n",
    "print(train_label.shape)\n",
    "\n",
    "train_ = train[:1900]\n",
    "train_label_ = train_label[:1900]\n",
    "\n",
    "result_data = train[1900:]\n",
    "result_label = train_label[1900:]"
   ]
  },
  {
   "cell_type": "code",
   "execution_count": null,
   "metadata": {},
   "outputs": [],
   "source": []
  }
 ]
}