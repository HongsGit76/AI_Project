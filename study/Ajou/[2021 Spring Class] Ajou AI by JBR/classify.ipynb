{
 "metadata": {
  "language_info": {
   "codemirror_mode": {
    "name": "ipython",
    "version": 3
   },
   "file_extension": ".py",
   "mimetype": "text/x-python",
   "name": "python",
   "nbconvert_exporter": "python",
   "pygments_lexer": "ipython3",
   "version": 3
  },
  "orig_nbformat": 2
 },
 "nbformat": 4,
 "nbformat_minor": 2,
 "cells": [
  {
   "cell_type": "code",
   "execution_count": null,
   "metadata": {},
   "outputs": [],
   "source": [
    "from __future__ import unicode_literals, print_function, division\n",
    "import numpy as np\n",
    "import torch\n",
    "\n",
    "train_data_source = \"C:/Users/sdat7/home/git_commit/AI_Project/study/Ajou/[2021 Spring Class] Ajou ML by JBR/train_data.npy\"\n",
    "train_label_source = \"C:/Users/sdat7/home/git_commit/AI_Project/study/Ajou/[2021 Spring Class] Ajou ML by JBR/train_label.npy\"\n",
    "data_np = np.load(train_data_source, allow_pickle=True)\n",
    "label_np = np.load(train_label_source, allow_pickle=True)\n",
    "\n",
    "all_label = ['18k','17k','16k','15k','14k','13k','12k','11k','10k','9k',\n",
    "'8k','7k','6k','5k','4k','3k','2k','1k','1d','2d','3d','4d','5d','6d','7d','8d','9d','Pro']\n",
    "\n",
    "n_label = len(all_label) # 18k ~ 1k, 1d ~ 9d, pro\n",
    "print(\"number of label: \", n_label)\n",
    "print(len(data_np))\n",
    "print(len(label_np))"
   ]
  }
 ]
}