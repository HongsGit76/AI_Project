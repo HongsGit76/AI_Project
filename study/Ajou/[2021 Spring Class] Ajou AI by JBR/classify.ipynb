{
 "metadata": {
  "language_info": {
   "codemirror_mode": {
    "name": "ipython",
    "version": 3
   },
   "file_extension": ".py",
   "mimetype": "text/x-python",
   "name": "python",
   "nbconvert_exporter": "python",
   "pygments_lexer": "ipython3",
   "version": "3.8.8"
  },
  "orig_nbformat": 2,
  "kernelspec": {
   "name": "python388jvsc74a57bd0043a2eb633b695e71b0cebba0f503bfeea657ab62891ef0d6c335ec0d52c3a16",
   "display_name": "Python 3.8.8 64-bit ('study': conda)"
  }
 },
 "nbformat": 4,
 "nbformat_minor": 2,
 "cells": [
  {
   "cell_type": "code",
   "execution_count": 9,
   "metadata": {},
   "outputs": [],
   "source": [
    "import numpy as np\n",
    "import matplotlib.pyplot as plt\n",
    "\n",
    "x = np.load(\"C:/Users/sdat7/home/2021/인공지능/[2021 Spring Class] Ajou AI by JBR/test_gallery.npy\")\n",
    "y = np.load(\"C:/Users/sdat7/home/2021/인공지능/[2021 Spring Class] Ajou AI by JBR/test_query.npy\")\n",
    "z = np.load(\"C:/Users/sdat7/home/2021/인공지능/[2021 Spring Class] Ajou AI by JBR/train_label.npy\")\n",
    "w = np.load(\"C:/Users/sdat7/home/2021/인공지능/[2021 Spring Class] Ajou AI by JBR/train.npy\")"
   ]
  },
  {
   "cell_type": "code",
   "execution_count": 10,
   "metadata": {},
   "outputs": [
    {
     "output_type": "execute_result",
     "data": {
      "text/plain": [
       "(100, 1, 512, 1, 1)"
      ]
     },
     "metadata": {},
     "execution_count": 10
    }
   ],
   "source": [
    "x.shape"
   ]
  },
  {
   "cell_type": "code",
   "execution_count": 11,
   "metadata": {},
   "outputs": [
    {
     "output_type": "execute_result",
     "data": {
      "text/plain": [
       "(1000, 1, 512, 1, 1)"
      ]
     },
     "metadata": {},
     "execution_count": 11
    }
   ],
   "source": [
    "y.shape"
   ]
  },
  {
   "cell_type": "code",
   "execution_count": 12,
   "metadata": {},
   "outputs": [
    {
     "output_type": "execute_result",
     "data": {
      "text/plain": [
       "(2000,)"
      ]
     },
     "metadata": {},
     "execution_count": 12
    }
   ],
   "source": [
    "z.shape"
   ]
  },
  {
   "cell_type": "code",
   "execution_count": 70,
   "metadata": {},
   "outputs": [
    {
     "output_type": "execute_result",
     "data": {
      "text/plain": [
       "0.7246264"
      ]
     },
     "metadata": {},
     "execution_count": 70
    }
   ],
   "source": [
    "w[77][0]"
   ]
  },
  {
   "cell_type": "code",
   "execution_count": 62,
   "metadata": {},
   "outputs": [
    {
     "output_type": "execute_result",
     "data": {
      "text/plain": [
       "<matplotlib.image.AxesImage at 0x2141c8d0bb0>"
      ]
     },
     "metadata": {},
     "execution_count": 62
    },
    {
     "output_type": "display_data",
     "data": {
      "text/plain": "<Figure size 432x288 with 1 Axes>",
      "image/svg+xml": "<?xml version=\"1.0\" encoding=\"utf-8\" standalone=\"no\"?>\r\n<!DOCTYPE svg PUBLIC \"-//W3C//DTD SVG 1.1//EN\"\r\n  \"http://www.w3.org/Graphics/SVG/1.1/DTD/svg11.dtd\">\r\n<!-- Created with matplotlib (https://matplotlib.org/) -->\r\n<svg height=\"198.478125pt\" version=\"1.1\" viewBox=\"0 0 368.925 198.478125\" width=\"368.925pt\" xmlns=\"http://www.w3.org/2000/svg\" xmlns:xlink=\"http://www.w3.org/1999/xlink\">\r\n <metadata>\r\n  <rdf:RDF xmlns:cc=\"http://creativecommons.org/ns#\" xmlns:dc=\"http://purl.org/dc/elements/1.1/\" xmlns:rdf=\"http://www.w3.org/1999/02/22-rdf-syntax-ns#\">\r\n   <cc:Work>\r\n    <dc:type rdf:resource=\"http://purl.org/dc/dcmitype/StillImage\"/>\r\n    <dc:date>2021-04-05T11:16:05.407736</dc:date>\r\n    <dc:format>image/svg+xml</dc:format>\r\n    <dc:creator>\r\n     <cc:Agent>\r\n      <dc:title>Matplotlib v3.3.4, https://matplotlib.org/</dc:title>\r\n     </cc:Agent>\r\n    </dc:creator>\r\n   </cc:Work>\r\n  </rdf:RDF>\r\n </metadata>\r\n <defs>\r\n  <style type=\"text/css\">*{stroke-linecap:butt;stroke-linejoin:round;}</style>\r\n </defs>\r\n <g id=\"figure_1\">\r\n  <g id=\"patch_1\">\r\n   <path d=\"M -0 198.478125 \r\nL 368.925 198.478125 \r\nL 368.925 0 \r\nL -0 0 \r\nz\r\n\" style=\"fill:none;\"/>\r\n  </g>\r\n  <g id=\"axes_1\">\r\n   <g id=\"patch_2\">\r\n    <path d=\"M 26.925 174.6 \r\nL 361.725 174.6 \r\nL 361.725 7.2 \r\nL 26.925 7.2 \r\nz\r\n\" style=\"fill:#ffffff;\"/>\r\n   </g>\r\n   <g clip-path=\"url(#ped7e2d6bba)\">\r\n    <image height=\"168\" id=\"imagee740fd12a9\" transform=\"scale(1 -1)translate(0 -168)\" width=\"335\" x=\"26.925\" xlink:href=\"data:image/png;base64,\r\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\" y=\"-6.6\"/>\r\n   </g>\r\n   <g id=\"matplotlib.axis_1\">\r\n    <g id=\"xtick_1\">\r\n     <g id=\"line2d_1\">\r\n      <defs>\r\n       <path d=\"M 0 0 \r\nL 0 3.5 \r\n\" id=\"m97904a5b8f\" style=\"stroke:#000000;stroke-width:0.8;\"/>\r\n      </defs>\r\n      <g>\r\n       <use style=\"stroke:#000000;stroke-width:0.8;\" x=\"32.15625\" xlink:href=\"#m97904a5b8f\" y=\"174.6\"/>\r\n      </g>\r\n     </g>\r\n     <g id=\"text_1\">\r\n      <!-- 0 -->\r\n      <g transform=\"translate(28.975 189.198438)scale(0.1 -0.1)\">\r\n       <defs>\r\n        <path d=\"M 31.78125 66.40625 \r\nQ 24.171875 66.40625 20.328125 58.90625 \r\nQ 16.5 51.421875 16.5 36.375 \r\nQ 16.5 21.390625 20.328125 13.890625 \r\nQ 24.171875 6.390625 31.78125 6.390625 \r\nQ 39.453125 6.390625 43.28125 13.890625 \r\nQ 47.125 21.390625 47.125 36.375 \r\nQ 47.125 51.421875 43.28125 58.90625 \r\nQ 39.453125 66.40625 31.78125 66.40625 \r\nz\r\nM 31.78125 74.21875 \r\nQ 44.046875 74.21875 50.515625 64.515625 \r\nQ 56.984375 54.828125 56.984375 36.375 \r\nQ 56.984375 17.96875 50.515625 8.265625 \r\nQ 44.046875 -1.421875 31.78125 -1.421875 \r\nQ 19.53125 -1.421875 13.0625 8.265625 \r\nQ 6.59375 17.96875 6.59375 36.375 \r\nQ 6.59375 54.828125 13.0625 64.515625 \r\nQ 19.53125 74.21875 31.78125 74.21875 \r\nz\r\n\" id=\"DejaVuSans-48\"/>\r\n       </defs>\r\n       <use xlink:href=\"#DejaVuSans-48\"/>\r\n      </g>\r\n     </g>\r\n    </g>\r\n    <g id=\"xtick_2\">\r\n     <g id=\"line2d_2\">\r\n      <g>\r\n       <use style=\"stroke:#000000;stroke-width:0.8;\" x=\"84.46875\" xlink:href=\"#m97904a5b8f\" y=\"174.6\"/>\r\n      </g>\r\n     </g>\r\n     <g id=\"text_2\">\r\n      <!-- 5 -->\r\n      <g transform=\"translate(81.2875 189.198438)scale(0.1 -0.1)\">\r\n       <defs>\r\n        <path d=\"M 10.796875 72.90625 \r\nL 49.515625 72.90625 \r\nL 49.515625 64.59375 \r\nL 19.828125 64.59375 \r\nL 19.828125 46.734375 \r\nQ 21.96875 47.46875 24.109375 47.828125 \r\nQ 26.265625 48.1875 28.421875 48.1875 \r\nQ 40.625 48.1875 47.75 41.5 \r\nQ 54.890625 34.8125 54.890625 23.390625 \r\nQ 54.890625 11.625 47.5625 5.09375 \r\nQ 40.234375 -1.421875 26.90625 -1.421875 \r\nQ 22.3125 -1.421875 17.546875 -0.640625 \r\nQ 12.796875 0.140625 7.71875 1.703125 \r\nL 7.71875 11.625 \r\nQ 12.109375 9.234375 16.796875 8.0625 \r\nQ 21.484375 6.890625 26.703125 6.890625 \r\nQ 35.15625 6.890625 40.078125 11.328125 \r\nQ 45.015625 15.765625 45.015625 23.390625 \r\nQ 45.015625 31 40.078125 35.4375 \r\nQ 35.15625 39.890625 26.703125 39.890625 \r\nQ 22.75 39.890625 18.8125 39.015625 \r\nQ 14.890625 38.140625 10.796875 36.28125 \r\nz\r\n\" id=\"DejaVuSans-53\"/>\r\n       </defs>\r\n       <use xlink:href=\"#DejaVuSans-53\"/>\r\n      </g>\r\n     </g>\r\n    </g>\r\n    <g id=\"xtick_3\">\r\n     <g id=\"line2d_3\">\r\n      <g>\r\n       <use style=\"stroke:#000000;stroke-width:0.8;\" x=\"136.78125\" xlink:href=\"#m97904a5b8f\" y=\"174.6\"/>\r\n      </g>\r\n     </g>\r\n     <g id=\"text_3\">\r\n      <!-- 10 -->\r\n      <g transform=\"translate(130.41875 189.198438)scale(0.1 -0.1)\">\r\n       <defs>\r\n        <path d=\"M 12.40625 8.296875 \r\nL 28.515625 8.296875 \r\nL 28.515625 63.921875 \r\nL 10.984375 60.40625 \r\nL 10.984375 69.390625 \r\nL 28.421875 72.90625 \r\nL 38.28125 72.90625 \r\nL 38.28125 8.296875 \r\nL 54.390625 8.296875 \r\nL 54.390625 0 \r\nL 12.40625 0 \r\nz\r\n\" id=\"DejaVuSans-49\"/>\r\n       </defs>\r\n       <use xlink:href=\"#DejaVuSans-49\"/>\r\n       <use x=\"63.623047\" xlink:href=\"#DejaVuSans-48\"/>\r\n      </g>\r\n     </g>\r\n    </g>\r\n    <g id=\"xtick_4\">\r\n     <g id=\"line2d_4\">\r\n      <g>\r\n       <use style=\"stroke:#000000;stroke-width:0.8;\" x=\"189.09375\" xlink:href=\"#m97904a5b8f\" y=\"174.6\"/>\r\n      </g>\r\n     </g>\r\n     <g id=\"text_4\">\r\n      <!-- 15 -->\r\n      <g transform=\"translate(182.73125 189.198438)scale(0.1 -0.1)\">\r\n       <use xlink:href=\"#DejaVuSans-49\"/>\r\n       <use x=\"63.623047\" xlink:href=\"#DejaVuSans-53\"/>\r\n      </g>\r\n     </g>\r\n    </g>\r\n    <g id=\"xtick_5\">\r\n     <g id=\"line2d_5\">\r\n      <g>\r\n       <use style=\"stroke:#000000;stroke-width:0.8;\" x=\"241.40625\" xlink:href=\"#m97904a5b8f\" y=\"174.6\"/>\r\n      </g>\r\n     </g>\r\n     <g id=\"text_5\">\r\n      <!-- 20 -->\r\n      <g transform=\"translate(235.04375 189.198438)scale(0.1 -0.1)\">\r\n       <defs>\r\n        <path d=\"M 19.1875 8.296875 \r\nL 53.609375 8.296875 \r\nL 53.609375 0 \r\nL 7.328125 0 \r\nL 7.328125 8.296875 \r\nQ 12.9375 14.109375 22.625 23.890625 \r\nQ 32.328125 33.6875 34.8125 36.53125 \r\nQ 39.546875 41.84375 41.421875 45.53125 \r\nQ 43.3125 49.21875 43.3125 52.78125 \r\nQ 43.3125 58.59375 39.234375 62.25 \r\nQ 35.15625 65.921875 28.609375 65.921875 \r\nQ 23.96875 65.921875 18.8125 64.3125 \r\nQ 13.671875 62.703125 7.8125 59.421875 \r\nL 7.8125 69.390625 \r\nQ 13.765625 71.78125 18.9375 73 \r\nQ 24.125 74.21875 28.421875 74.21875 \r\nQ 39.75 74.21875 46.484375 68.546875 \r\nQ 53.21875 62.890625 53.21875 53.421875 \r\nQ 53.21875 48.921875 51.53125 44.890625 \r\nQ 49.859375 40.875 45.40625 35.40625 \r\nQ 44.1875 33.984375 37.640625 27.21875 \r\nQ 31.109375 20.453125 19.1875 8.296875 \r\nz\r\n\" id=\"DejaVuSans-50\"/>\r\n       </defs>\r\n       <use xlink:href=\"#DejaVuSans-50\"/>\r\n       <use x=\"63.623047\" xlink:href=\"#DejaVuSans-48\"/>\r\n      </g>\r\n     </g>\r\n    </g>\r\n    <g id=\"xtick_6\">\r\n     <g id=\"line2d_6\">\r\n      <g>\r\n       <use style=\"stroke:#000000;stroke-width:0.8;\" x=\"293.71875\" xlink:href=\"#m97904a5b8f\" y=\"174.6\"/>\r\n      </g>\r\n     </g>\r\n     <g id=\"text_6\">\r\n      <!-- 25 -->\r\n      <g transform=\"translate(287.35625 189.198438)scale(0.1 -0.1)\">\r\n       <use xlink:href=\"#DejaVuSans-50\"/>\r\n       <use x=\"63.623047\" xlink:href=\"#DejaVuSans-53\"/>\r\n      </g>\r\n     </g>\r\n    </g>\r\n    <g id=\"xtick_7\">\r\n     <g id=\"line2d_7\">\r\n      <g>\r\n       <use style=\"stroke:#000000;stroke-width:0.8;\" x=\"346.03125\" xlink:href=\"#m97904a5b8f\" y=\"174.6\"/>\r\n      </g>\r\n     </g>\r\n     <g id=\"text_7\">\r\n      <!-- 30 -->\r\n      <g transform=\"translate(339.66875 189.198438)scale(0.1 -0.1)\">\r\n       <defs>\r\n        <path d=\"M 40.578125 39.3125 \r\nQ 47.65625 37.796875 51.625 33 \r\nQ 55.609375 28.21875 55.609375 21.1875 \r\nQ 55.609375 10.40625 48.1875 4.484375 \r\nQ 40.765625 -1.421875 27.09375 -1.421875 \r\nQ 22.515625 -1.421875 17.65625 -0.515625 \r\nQ 12.796875 0.390625 7.625 2.203125 \r\nL 7.625 11.71875 \r\nQ 11.71875 9.328125 16.59375 8.109375 \r\nQ 21.484375 6.890625 26.8125 6.890625 \r\nQ 36.078125 6.890625 40.9375 10.546875 \r\nQ 45.796875 14.203125 45.796875 21.1875 \r\nQ 45.796875 27.640625 41.28125 31.265625 \r\nQ 36.765625 34.90625 28.71875 34.90625 \r\nL 20.21875 34.90625 \r\nL 20.21875 43.015625 \r\nL 29.109375 43.015625 \r\nQ 36.375 43.015625 40.234375 45.921875 \r\nQ 44.09375 48.828125 44.09375 54.296875 \r\nQ 44.09375 59.90625 40.109375 62.90625 \r\nQ 36.140625 65.921875 28.71875 65.921875 \r\nQ 24.65625 65.921875 20.015625 65.03125 \r\nQ 15.375 64.15625 9.8125 62.3125 \r\nL 9.8125 71.09375 \r\nQ 15.4375 72.65625 20.34375 73.4375 \r\nQ 25.25 74.21875 29.59375 74.21875 \r\nQ 40.828125 74.21875 47.359375 69.109375 \r\nQ 53.90625 64.015625 53.90625 55.328125 \r\nQ 53.90625 49.265625 50.4375 45.09375 \r\nQ 46.96875 40.921875 40.578125 39.3125 \r\nz\r\n\" id=\"DejaVuSans-51\"/>\r\n       </defs>\r\n       <use xlink:href=\"#DejaVuSans-51\"/>\r\n       <use x=\"63.623047\" xlink:href=\"#DejaVuSans-48\"/>\r\n      </g>\r\n     </g>\r\n    </g>\r\n   </g>\r\n   <g id=\"matplotlib.axis_2\">\r\n    <g id=\"ytick_1\">\r\n     <g id=\"line2d_8\">\r\n      <defs>\r\n       <path d=\"M 0 0 \r\nL -3.5 0 \r\n\" id=\"m9636de3417\" style=\"stroke:#000000;stroke-width:0.8;\"/>\r\n      </defs>\r\n      <g>\r\n       <use style=\"stroke:#000000;stroke-width:0.8;\" x=\"26.925\" xlink:href=\"#m9636de3417\" y=\"12.43125\"/>\r\n      </g>\r\n     </g>\r\n     <g id=\"text_8\">\r\n      <!-- 0 -->\r\n      <g transform=\"translate(13.5625 16.230469)scale(0.1 -0.1)\">\r\n       <use xlink:href=\"#DejaVuSans-48\"/>\r\n      </g>\r\n     </g>\r\n    </g>\r\n    <g id=\"ytick_2\">\r\n     <g id=\"line2d_9\">\r\n      <g>\r\n       <use style=\"stroke:#000000;stroke-width:0.8;\" x=\"26.925\" xlink:href=\"#m9636de3417\" y=\"33.35625\"/>\r\n      </g>\r\n     </g>\r\n     <g id=\"text_9\">\r\n      <!-- 2 -->\r\n      <g transform=\"translate(13.5625 37.155469)scale(0.1 -0.1)\">\r\n       <use xlink:href=\"#DejaVuSans-50\"/>\r\n      </g>\r\n     </g>\r\n    </g>\r\n    <g id=\"ytick_3\">\r\n     <g id=\"line2d_10\">\r\n      <g>\r\n       <use style=\"stroke:#000000;stroke-width:0.8;\" x=\"26.925\" xlink:href=\"#m9636de3417\" y=\"54.28125\"/>\r\n      </g>\r\n     </g>\r\n     <g id=\"text_10\">\r\n      <!-- 4 -->\r\n      <g transform=\"translate(13.5625 58.080469)scale(0.1 -0.1)\">\r\n       <defs>\r\n        <path d=\"M 37.796875 64.3125 \r\nL 12.890625 25.390625 \r\nL 37.796875 25.390625 \r\nz\r\nM 35.203125 72.90625 \r\nL 47.609375 72.90625 \r\nL 47.609375 25.390625 \r\nL 58.015625 25.390625 \r\nL 58.015625 17.1875 \r\nL 47.609375 17.1875 \r\nL 47.609375 0 \r\nL 37.796875 0 \r\nL 37.796875 17.1875 \r\nL 4.890625 17.1875 \r\nL 4.890625 26.703125 \r\nz\r\n\" id=\"DejaVuSans-52\"/>\r\n       </defs>\r\n       <use xlink:href=\"#DejaVuSans-52\"/>\r\n      </g>\r\n     </g>\r\n    </g>\r\n    <g id=\"ytick_4\">\r\n     <g id=\"line2d_11\">\r\n      <g>\r\n       <use style=\"stroke:#000000;stroke-width:0.8;\" x=\"26.925\" xlink:href=\"#m9636de3417\" y=\"75.20625\"/>\r\n      </g>\r\n     </g>\r\n     <g id=\"text_11\">\r\n      <!-- 6 -->\r\n      <g transform=\"translate(13.5625 79.005469)scale(0.1 -0.1)\">\r\n       <defs>\r\n        <path d=\"M 33.015625 40.375 \r\nQ 26.375 40.375 22.484375 35.828125 \r\nQ 18.609375 31.296875 18.609375 23.390625 \r\nQ 18.609375 15.53125 22.484375 10.953125 \r\nQ 26.375 6.390625 33.015625 6.390625 \r\nQ 39.65625 6.390625 43.53125 10.953125 \r\nQ 47.40625 15.53125 47.40625 23.390625 \r\nQ 47.40625 31.296875 43.53125 35.828125 \r\nQ 39.65625 40.375 33.015625 40.375 \r\nz\r\nM 52.59375 71.296875 \r\nL 52.59375 62.3125 \r\nQ 48.875 64.0625 45.09375 64.984375 \r\nQ 41.3125 65.921875 37.59375 65.921875 \r\nQ 27.828125 65.921875 22.671875 59.328125 \r\nQ 17.53125 52.734375 16.796875 39.40625 \r\nQ 19.671875 43.65625 24.015625 45.921875 \r\nQ 28.375 48.1875 33.59375 48.1875 \r\nQ 44.578125 48.1875 50.953125 41.515625 \r\nQ 57.328125 34.859375 57.328125 23.390625 \r\nQ 57.328125 12.15625 50.6875 5.359375 \r\nQ 44.046875 -1.421875 33.015625 -1.421875 \r\nQ 20.359375 -1.421875 13.671875 8.265625 \r\nQ 6.984375 17.96875 6.984375 36.375 \r\nQ 6.984375 53.65625 15.1875 63.9375 \r\nQ 23.390625 74.21875 37.203125 74.21875 \r\nQ 40.921875 74.21875 44.703125 73.484375 \r\nQ 48.484375 72.75 52.59375 71.296875 \r\nz\r\n\" id=\"DejaVuSans-54\"/>\r\n       </defs>\r\n       <use xlink:href=\"#DejaVuSans-54\"/>\r\n      </g>\r\n     </g>\r\n    </g>\r\n    <g id=\"ytick_5\">\r\n     <g id=\"line2d_12\">\r\n      <g>\r\n       <use style=\"stroke:#000000;stroke-width:0.8;\" x=\"26.925\" xlink:href=\"#m9636de3417\" y=\"96.13125\"/>\r\n      </g>\r\n     </g>\r\n     <g id=\"text_12\">\r\n      <!-- 8 -->\r\n      <g transform=\"translate(13.5625 99.930469)scale(0.1 -0.1)\">\r\n       <defs>\r\n        <path d=\"M 31.78125 34.625 \r\nQ 24.75 34.625 20.71875 30.859375 \r\nQ 16.703125 27.09375 16.703125 20.515625 \r\nQ 16.703125 13.921875 20.71875 10.15625 \r\nQ 24.75 6.390625 31.78125 6.390625 \r\nQ 38.8125 6.390625 42.859375 10.171875 \r\nQ 46.921875 13.96875 46.921875 20.515625 \r\nQ 46.921875 27.09375 42.890625 30.859375 \r\nQ 38.875 34.625 31.78125 34.625 \r\nz\r\nM 21.921875 38.8125 \r\nQ 15.578125 40.375 12.03125 44.71875 \r\nQ 8.5 49.078125 8.5 55.328125 \r\nQ 8.5 64.0625 14.71875 69.140625 \r\nQ 20.953125 74.21875 31.78125 74.21875 \r\nQ 42.671875 74.21875 48.875 69.140625 \r\nQ 55.078125 64.0625 55.078125 55.328125 \r\nQ 55.078125 49.078125 51.53125 44.71875 \r\nQ 48 40.375 41.703125 38.8125 \r\nQ 48.828125 37.15625 52.796875 32.3125 \r\nQ 56.78125 27.484375 56.78125 20.515625 \r\nQ 56.78125 9.90625 50.3125 4.234375 \r\nQ 43.84375 -1.421875 31.78125 -1.421875 \r\nQ 19.734375 -1.421875 13.25 4.234375 \r\nQ 6.78125 9.90625 6.78125 20.515625 \r\nQ 6.78125 27.484375 10.78125 32.3125 \r\nQ 14.796875 37.15625 21.921875 38.8125 \r\nz\r\nM 18.3125 54.390625 \r\nQ 18.3125 48.734375 21.84375 45.5625 \r\nQ 25.390625 42.390625 31.78125 42.390625 \r\nQ 38.140625 42.390625 41.71875 45.5625 \r\nQ 45.3125 48.734375 45.3125 54.390625 \r\nQ 45.3125 60.0625 41.71875 63.234375 \r\nQ 38.140625 66.40625 31.78125 66.40625 \r\nQ 25.390625 66.40625 21.84375 63.234375 \r\nQ 18.3125 60.0625 18.3125 54.390625 \r\nz\r\n\" id=\"DejaVuSans-56\"/>\r\n       </defs>\r\n       <use xlink:href=\"#DejaVuSans-56\"/>\r\n      </g>\r\n     </g>\r\n    </g>\r\n    <g id=\"ytick_6\">\r\n     <g id=\"line2d_13\">\r\n      <g>\r\n       <use style=\"stroke:#000000;stroke-width:0.8;\" x=\"26.925\" xlink:href=\"#m9636de3417\" y=\"117.05625\"/>\r\n      </g>\r\n     </g>\r\n     <g id=\"text_13\">\r\n      <!-- 10 -->\r\n      <g transform=\"translate(7.2 120.855469)scale(0.1 -0.1)\">\r\n       <use xlink:href=\"#DejaVuSans-49\"/>\r\n       <use x=\"63.623047\" xlink:href=\"#DejaVuSans-48\"/>\r\n      </g>\r\n     </g>\r\n    </g>\r\n    <g id=\"ytick_7\">\r\n     <g id=\"line2d_14\">\r\n      <g>\r\n       <use style=\"stroke:#000000;stroke-width:0.8;\" x=\"26.925\" xlink:href=\"#m9636de3417\" y=\"137.98125\"/>\r\n      </g>\r\n     </g>\r\n     <g id=\"text_14\">\r\n      <!-- 12 -->\r\n      <g transform=\"translate(7.2 141.780469)scale(0.1 -0.1)\">\r\n       <use xlink:href=\"#DejaVuSans-49\"/>\r\n       <use x=\"63.623047\" xlink:href=\"#DejaVuSans-50\"/>\r\n      </g>\r\n     </g>\r\n    </g>\r\n    <g id=\"ytick_8\">\r\n     <g id=\"line2d_15\">\r\n      <g>\r\n       <use style=\"stroke:#000000;stroke-width:0.8;\" x=\"26.925\" xlink:href=\"#m9636de3417\" y=\"158.90625\"/>\r\n      </g>\r\n     </g>\r\n     <g id=\"text_15\">\r\n      <!-- 14 -->\r\n      <g transform=\"translate(7.2 162.705469)scale(0.1 -0.1)\">\r\n       <use xlink:href=\"#DejaVuSans-49\"/>\r\n       <use x=\"63.623047\" xlink:href=\"#DejaVuSans-52\"/>\r\n      </g>\r\n     </g>\r\n    </g>\r\n   </g>\r\n   <g id=\"patch_3\">\r\n    <path d=\"M 26.925 174.6 \r\nL 26.925 7.2 \r\n\" style=\"fill:none;stroke:#000000;stroke-linecap:square;stroke-linejoin:miter;stroke-width:0.8;\"/>\r\n   </g>\r\n   <g id=\"patch_4\">\r\n    <path d=\"M 361.725 174.6 \r\nL 361.725 7.2 \r\n\" style=\"fill:none;stroke:#000000;stroke-linecap:square;stroke-linejoin:miter;stroke-width:0.8;\"/>\r\n   </g>\r\n   <g id=\"patch_5\">\r\n    <path d=\"M 26.925 174.6 \r\nL 361.725 174.6 \r\n\" style=\"fill:none;stroke:#000000;stroke-linecap:square;stroke-linejoin:miter;stroke-width:0.8;\"/>\r\n   </g>\r\n   <g id=\"patch_6\">\r\n    <path d=\"M 26.925 7.2 \r\nL 361.725 7.2 \r\n\" style=\"fill:none;stroke:#000000;stroke-linecap:square;stroke-linejoin:miter;stroke-width:0.8;\"/>\r\n   </g>\r\n  </g>\r\n </g>\r\n <defs>\r\n  <clipPath id=\"ped7e2d6bba\">\r\n   <rect height=\"167.4\" width=\"334.8\" x=\"26.925\" y=\"7.2\"/>\r\n  </clipPath>\r\n </defs>\r\n</svg>\r\n",
      "image/png": "[encoded data removed]"
     },
     "metadata": {
      "needs_background": "light"
     }
    }
   ],
   "source": [
    "plt.imshow(a)"
   ]
  },
  {
   "cell_type": "code",
   "execution_count": 56,
   "metadata": {},
   "outputs": [
    {
     "output_type": "execute_result",
     "data": {
      "text/plain": [
       "(16, 32)"
      ]
     },
     "metadata": {},
     "execution_count": 56
    }
   ],
   "source": [
    "a.shape"
   ]
  },
  {
   "cell_type": "code",
   "execution_count": null,
   "metadata": {},
   "outputs": [],
   "source": []
  }
 ]
}