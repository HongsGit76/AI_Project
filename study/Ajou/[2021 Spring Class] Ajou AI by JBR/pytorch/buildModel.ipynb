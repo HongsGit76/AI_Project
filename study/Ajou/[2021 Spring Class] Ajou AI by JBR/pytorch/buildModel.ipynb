{
 "metadata": {
  "language_info": {
   "codemirror_mode": {
    "name": "ipython",
    "version": 3
   },
   "file_extension": ".py",
   "mimetype": "text/x-python",
   "name": "python",
   "nbconvert_exporter": "python",
   "pygments_lexer": "ipython3",
   "version": "3.8.8"
  },
  "orig_nbformat": 2,
  "kernelspec": {
   "name": "python388jvsc74a57bd0043a2eb633b695e71b0cebba0f503bfeea657ab62891ef0d6c335ec0d52c3a16",
   "display_name": "Python 3.8.8 64-bit ('study': conda)"
  }
 },
 "nbformat": 4,
 "nbformat_minor": 2,
 "cells": [
  {
   "cell_type": "code",
   "execution_count": 1,
   "metadata": {},
   "outputs": [],
   "source": [
    "import os\n",
    "import torch\n",
    "from torch import nn\n",
    "from torch.utils.data import DataLoader\n",
    "from torchvision import datasets, transforms"
   ]
  },
  {
   "cell_type": "code",
   "execution_count": 2,
   "metadata": {},
   "outputs": [
    {
     "output_type": "stream",
     "name": "stdout",
     "text": [
      "Using cpu device\n"
     ]
    }
   ],
   "source": [
    "device = 'cuda' if torch.cuda.is_available() else 'cpu'\n",
    "print('Using {} device'.format(device))"
   ]
  },
  {
   "cell_type": "code",
   "execution_count": 3,
   "metadata": {},
   "outputs": [],
   "source": [
    "class NeuralNetwork(nn.Module):\n",
    "    def __init__(self):\n",
    "        super(NeuralNetwork, self).__init__()\n",
    "        self.flatten = nn.Flatten()\n",
    "        self.linear_relu_stack = nn.Sequential(\n",
    "            nn.Linear(28*28, 512),\n",
    "            nn.ReLU(),\n",
    "            nn.Linear(512, 512),\n",
    "            nn.ReLU(),\n",
    "            nn.Linear(512, 10),\n",
    "            nn.ReLU()\n",
    "        )\n",
    "\n",
    "    def forward(self, x):\n",
    "        x = self.flatten(x)\n",
    "        logits = self.linear_relu_stack(x)\n",
    "        return logits"
   ]
  },
  {
   "cell_type": "code",
   "execution_count": 4,
   "metadata": {},
   "outputs": [
    {
     "output_type": "stream",
     "name": "stdout",
     "text": [
      "NeuralNetwork(\n  (flatten): Flatten(start_dim=1, end_dim=-1)\n  (linear_relu_stack): Sequential(\n    (0): Linear(in_features=784, out_features=512, bias=True)\n    (1): ReLU()\n    (2): Linear(in_features=512, out_features=512, bias=True)\n    (3): ReLU()\n    (4): Linear(in_features=512, out_features=10, bias=True)\n    (5): ReLU()\n  )\n)\n"
     ]
    }
   ],
   "source": [
    "model = NeuralNetwork().to(device)\n",
    "print(model)"
   ]
  },
  {
   "cell_type": "code",
   "execution_count": 5,
   "metadata": {},
   "outputs": [
    {
     "output_type": "stream",
     "name": "stdout",
     "text": [
      "Predicted class: tensor([5])\n"
     ]
    }
   ],
   "source": [
    "X = torch.rand(1, 28, 28, device=device)\n",
    "logits = model(X)\n",
    "pred_probab = nn.Softmax(dim=1)(logits)\n",
    "y_pred = pred_probab.argmax(1)\n",
    "print(f\"Predicted class: {y_pred}\")"
   ]
  },
  {
   "cell_type": "code",
   "execution_count": 6,
   "metadata": {},
   "outputs": [
    {
     "output_type": "stream",
     "name": "stdout",
     "text": [
      "torch.Size([3, 28, 28])\n"
     ]
    }
   ],
   "source": [
    "input_image = torch.rand(3,28,28)\n",
    "print(input_image.size())"
   ]
  },
  {
   "cell_type": "code",
   "execution_count": 7,
   "metadata": {},
   "outputs": [
    {
     "output_type": "stream",
     "name": "stdout",
     "text": [
      "torch.Size([3, 784])\n"
     ]
    }
   ],
   "source": [
    "flatten = nn.Flatten()\n",
    "flat_image = flatten(input_image)\n",
    "print(flat_image.size())"
   ]
  },
  {
   "cell_type": "code",
   "execution_count": 8,
   "metadata": {},
   "outputs": [
    {
     "output_type": "stream",
     "name": "stdout",
     "text": [
      "torch.Size([3, 20])\n"
     ]
    }
   ],
   "source": [
    "layer1 = nn.Linear(in_features=28*28, out_features=20)\n",
    "hidden1 = layer1(flat_image)\n",
    "print(hidden1.size())"
   ]
  },
  {
   "cell_type": "code",
   "execution_count": 9,
   "metadata": {},
   "outputs": [
    {
     "output_type": "stream",
     "name": "stdout",
     "text": [
      "Before ReLU: tensor([[ 4.1367e-01,  4.7449e-03,  4.0450e-02, -2.1069e-01,  3.4678e-01,\n          9.3494e-02,  1.5900e-02,  8.4254e-01, -2.5037e-01,  6.9360e-03,\n         -9.8042e-02,  2.1008e-01, -4.1684e-01, -2.0490e-01, -1.1536e-01,\n          2.3081e-02,  6.8441e-02, -8.5247e-02,  1.6854e-01, -1.5892e-01],\n        [ 3.0828e-01, -2.2665e-01, -6.9109e-03, -1.0474e-01,  2.5709e-01,\n         -4.4508e-02, -6.1750e-02,  8.3865e-01,  3.2980e-02,  2.5897e-01,\n         -2.0461e-01,  2.5615e-02, -3.3696e-01, -3.4672e-01, -1.6764e-01,\n          1.1905e-01,  1.4623e-01, -8.0564e-01, -3.7178e-04, -1.0451e-01],\n        [ 2.2942e-01,  2.3804e-02,  7.8453e-02,  9.8537e-02,  2.1539e-01,\n          2.9458e-01, -2.9126e-01,  7.6540e-01,  9.8226e-02,  1.2752e-01,\n         -1.0132e-01,  2.6680e-01, -5.4277e-01, -8.2310e-01,  8.1999e-03,\n         -2.6925e-01, -1.1196e-01, -3.5778e-01, -1.8191e-01,  1.2515e-01]],\n       grad_fn=<AddmmBackward>)\n\n\nAfter ReLU: tensor([[0.4137, 0.0047, 0.0404, 0.0000, 0.3468, 0.0935, 0.0159, 0.8425, 0.0000,\n         0.0069, 0.0000, 0.2101, 0.0000, 0.0000, 0.0000, 0.0231, 0.0684, 0.0000,\n         0.1685, 0.0000],\n        [0.3083, 0.0000, 0.0000, 0.0000, 0.2571, 0.0000, 0.0000, 0.8387, 0.0330,\n         0.2590, 0.0000, 0.0256, 0.0000, 0.0000, 0.0000, 0.1191, 0.1462, 0.0000,\n         0.0000, 0.0000],\n        [0.2294, 0.0238, 0.0785, 0.0985, 0.2154, 0.2946, 0.0000, 0.7654, 0.0982,\n         0.1275, 0.0000, 0.2668, 0.0000, 0.0000, 0.0082, 0.0000, 0.0000, 0.0000,\n         0.0000, 0.1251]], grad_fn=<ReluBackward0>)\n"
     ]
    }
   ],
   "source": [
    "print(f\"Before ReLU: {hidden1}\\n\\n\")\n",
    "hidden1 = nn.ReLU()(hidden1)\n",
    "print(f\"After ReLU: {hidden1}\")"
   ]
  },
  {
   "cell_type": "code",
   "execution_count": 10,
   "metadata": {},
   "outputs": [],
   "source": [
    "seq_modules = nn.Sequential(\n",
    "    flatten,\n",
    "    layer1,\n",
    "    nn.ReLU(),\n",
    "    nn.Linear(20, 10)\n",
    ")\n",
    "input_image = torch.rand(3,28,28)\n",
    "logits = seq_modules(input_image)"
   ]
  },
  {
   "cell_type": "code",
   "execution_count": 11,
   "metadata": {},
   "outputs": [],
   "source": [
    "softmax = nn.Softmax(dim=1)\n",
    "pred_probab = softmax(logits)"
   ]
  },
  {
   "cell_type": "code",
   "execution_count": 12,
   "metadata": {},
   "outputs": [
    {
     "output_type": "stream",
     "name": "stdout",
     "text": [
      "Model structure:  NeuralNetwork(\n  (flatten): Flatten(start_dim=1, end_dim=-1)\n  (linear_relu_stack): Sequential(\n    (0): Linear(in_features=784, out_features=512, bias=True)\n    (1): ReLU()\n    (2): Linear(in_features=512, out_features=512, bias=True)\n    (3): ReLU()\n    (4): Linear(in_features=512, out_features=10, bias=True)\n    (5): ReLU()\n  )\n) \n\n\nLayer: linear_relu_stack.0.weight | Size: torch.Size([512, 784]) | Values : tensor([[-0.0048,  0.0143,  0.0287,  ...,  0.0061, -0.0005, -0.0336],\n        [ 0.0254,  0.0045, -0.0204,  ..., -0.0348,  0.0326, -0.0331]],\n       grad_fn=<SliceBackward>) \n\nLayer: linear_relu_stack.0.bias | Size: torch.Size([512]) | Values : tensor([-0.0154,  0.0349], grad_fn=<SliceBackward>) \n\nLayer: linear_relu_stack.2.weight | Size: torch.Size([512, 512]) | Values : tensor([[-0.0173, -0.0403, -0.0318,  ...,  0.0234,  0.0253,  0.0425],\n        [ 0.0338, -0.0083, -0.0056,  ..., -0.0101, -0.0211,  0.0408]],\n       grad_fn=<SliceBackward>) \n\nLayer: linear_relu_stack.2.bias | Size: torch.Size([512]) | Values : tensor([0.0212, 0.0325], grad_fn=<SliceBackward>) \n\nLayer: linear_relu_stack.4.weight | Size: torch.Size([10, 512]) | Values : tensor([[ 0.0272, -0.0275,  0.0428,  ...,  0.0314, -0.0368, -0.0064],\n        [ 0.0254,  0.0417,  0.0106,  ...,  0.0318, -0.0199, -0.0301]],\n       grad_fn=<SliceBackward>) \n\nLayer: linear_relu_stack.4.bias | Size: torch.Size([10]) | Values : tensor([ 0.0058, -0.0391], grad_fn=<SliceBackward>) \n\n"
     ]
    }
   ],
   "source": [
    "print(\"Model structure: \", model, \"\\n\\n\")\n",
    "\n",
    "for name, param in model.named_parameters():\n",
    "    print(f\"Layer: {name} | Size: {param.size()} | Values : {param[:2]} \\n\")"
   ]
  },
  {
   "cell_type": "code",
   "execution_count": null,
   "metadata": {},
   "outputs": [],
   "source": []
  }
 ]
}