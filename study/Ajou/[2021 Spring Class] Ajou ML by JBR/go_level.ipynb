{
 "metadata": {
  "language_info": {
   "codemirror_mode": {
    "name": "ipython",
    "version": 3
   },
   "file_extension": ".py",
   "mimetype": "text/x-python",
   "name": "python",
   "nbconvert_exporter": "python",
   "pygments_lexer": "ipython3",
   "version": "3.8.8-final"
  },
  "orig_nbformat": 2,
  "kernelspec": {
   "name": "python3",
   "display_name": "Python 3",
   "language": "python"
  }
 },
 "nbformat": 4,
 "nbformat_minor": 2,
 "cells": [
  {
   "cell_type": "code",
   "execution_count": 4,
   "metadata": {},
   "outputs": [
    {
     "output_type": "execute_result",
     "data": {
      "text/plain": [
       "(2682,)"
      ]
     },
     "metadata": {},
     "execution_count": 4
    }
   ],
   "source": [
    "import numpy as np\n",
    "\n",
    "train_data = np.load(\"C:/Users/sdat7/home/2021/기계학습/[2021 Spring Class] Ajou ML by JBR/train_data.npy\", allow_pickle=True)\n",
    "train_label = np.load(\"C:/Users/sdat7/home/2021/기계학습/[2021 Spring Class] Ajou ML by JBR/train_label.npy\", allow_pickle=True)\n",
    "\n",
    "train_data.shape"
   ]
  }
 ]
}