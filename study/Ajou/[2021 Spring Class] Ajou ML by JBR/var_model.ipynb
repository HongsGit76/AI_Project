{
 "metadata": {
  "language_info": {
   "codemirror_mode": {
    "name": "ipython",
    "version": 3
   },
   "file_extension": ".py",
   "mimetype": "text/x-python",
   "name": "python",
   "nbconvert_exporter": "python",
   "pygments_lexer": "ipython3",
   "version": "3.8.8"
  },
  "orig_nbformat": 2,
  "kernelspec": {
   "name": "python388jvsc74a57bd0043a2eb633b695e71b0cebba0f503bfeea657ab62891ef0d6c335ec0d52c3a16",
   "display_name": "Python 3.8.8 64-bit ('study': conda)"
  }
 },
 "nbformat": 4,
 "nbformat_minor": 2,
 "cells": [
  {
   "cell_type": "code",
   "execution_count": 1,
   "metadata": {},
   "outputs": [
    {
     "output_type": "stream",
     "name": "stdout",
     "text": [
      "number of label:  27\n"
     ]
    }
   ],
   "source": [
    "from __future__ import unicode_literals, print_function, division\n",
    "import numpy as np\n",
    "import torch\n",
    "\n",
    "train_data_source = \"C:/Users/sdat7/home/git_commit/AI_Project/study/Ajou/[2021 Spring Class] Ajou ML by JBR/train_data.npy\"\n",
    "train_label_source = \"C:/Users/sdat7/home/git_commit/AI_Project/study/Ajou/[2021 Spring Class] Ajou ML by JBR/train_label.npy\"\n",
    "data_np = np.load(train_data_source, allow_pickle=True)\n",
    "label_np = np.load(train_label_source, allow_pickle=True)\n",
    "\n",
    "all_label = ['18k','17k','16k','15k','14k','13k','12k','11k','10k','9k',\n",
    "'8k','7k','6k','5k','4k','3k','2k','1k','1d','2d','3d','4d','5d','6d','7d','8d','9d']\n",
    "\n",
    "n_label = len(all_label) # 18k ~ 1k, 1d ~ 9d, pro\n",
    "print(\"number of label: \", n_label)\n"
   ]
  },
  {
   "cell_type": "code",
   "execution_count": 13,
   "metadata": {},
   "outputs": [],
   "source": [
    "import matplotlib.pyplot as plt\n",
    "# a = torch.tensor(data_np[0][0][0]) \n",
    "# 1. 경기 2. 턴 3. 인덱스\n",
    "# a = a.view(1,361)\n",
    "\n",
    "def gameTurnToTensor(game):\n",
    "  n_turn = len(game)\n",
    "  # print(n_turn)\n",
    "\n",
    "  # initiate array, tensor\n",
    "  g = np.zeros((n_turn, 19, 19))\n",
    "  tensor = torch.zeros(n_turn, 19, 19)\n",
    "\n",
    "  for i in range(n_turn - 1):\n",
    "    if i == 0:\n",
    "      g[i] = game[i]\n",
    "      x = torch.tensor(g[i])\n",
    "      tensor[i]=x.clone().detach()\n",
    "      \n",
    "    g[i+1] = game[i+1]-game[i]\n",
    "    y = torch.tensor(g[i+1])\n",
    "    tensor[i+1] = y.clone().detach()\n",
    "\n",
    "  \n",
    "  tensor = tensor.view(n_turn,1,361)\n",
    "  return tensor\n",
    "\n",
    "def gameToTensor(game):\n",
    "#   tensor = torch.FloatTensor(len(game),1 ,361)\n",
    "  nth_turn = 0\n",
    "\n",
    "  for turn in game:\n",
    "    turns = turn[0].astype(np.float64)\n",
    "    x = torch.tensor(turns, requires_grad=True)\n",
    "    turn_tensor = x.clone().detach().requires_grad_(True)\n",
    "    # print(turn_tensor)\n",
    "    # turn_tensor = turn_tensor.view(361)\n",
    "    # print(turn_tensor)\n",
    "\n",
    "    # tensor[nth_turn] = turn_tensor.clone().detach()\n",
    "    nth_turn += 1\n",
    "\n",
    "  return tensor"
   ]
  },
  {
   "cell_type": "code",
   "execution_count": 14,
   "metadata": {},
   "outputs": [
    {
     "output_type": "error",
     "ename": "NameError",
     "evalue": "name 'tensor' is not defined",
     "traceback": [
      "\u001b[1;31m---------------------------------------------------------------------------\u001b[0m",
      "\u001b[1;31mNameError\u001b[0m                                 Traceback (most recent call last)",
      "\u001b[1;32m<ipython-input-14-b260f0aa44f8>\u001b[0m in \u001b[0;36m<module>\u001b[1;34m\u001b[0m\n\u001b[1;32m----> 1\u001b[1;33m \u001b[0mg\u001b[0m \u001b[1;33m=\u001b[0m \u001b[0mgameToTensor\u001b[0m\u001b[1;33m(\u001b[0m\u001b[0mdata_np\u001b[0m\u001b[1;33m[\u001b[0m\u001b[1;36m0\u001b[0m\u001b[1;33m]\u001b[0m\u001b[1;33m)\u001b[0m\u001b[1;33m\u001b[0m\u001b[1;33m\u001b[0m\u001b[0m\n\u001b[0m\u001b[0;32m      2\u001b[0m \u001b[0mt\u001b[0m \u001b[1;33m=\u001b[0m \u001b[0mgameTurnToTensor\u001b[0m\u001b[1;33m(\u001b[0m\u001b[0mdata_np\u001b[0m\u001b[1;33m[\u001b[0m\u001b[1;36m0\u001b[0m\u001b[1;33m]\u001b[0m\u001b[1;33m)\u001b[0m\u001b[1;33m\u001b[0m\u001b[1;33m\u001b[0m\u001b[0m\n\u001b[0;32m      3\u001b[0m \u001b[0mprint\u001b[0m\u001b[1;33m(\u001b[0m\u001b[0mt\u001b[0m\u001b[1;33m[\u001b[0m\u001b[1;36m0\u001b[0m\u001b[1;33m]\u001b[0m\u001b[1;33m[\u001b[0m\u001b[1;36m0\u001b[0m\u001b[1;33m]\u001b[0m\u001b[1;33m)\u001b[0m\u001b[1;33m\u001b[0m\u001b[1;33m\u001b[0m\u001b[0m\n",
      "\u001b[1;32m<ipython-input-13-0f2383a9dfae>\u001b[0m in \u001b[0;36mgameToTensor\u001b[1;34m(game)\u001b[0m\n\u001b[0;32m     38\u001b[0m     \u001b[1;31m# print(turn_tensor)\u001b[0m\u001b[1;33m\u001b[0m\u001b[1;33m\u001b[0m\u001b[1;33m\u001b[0m\u001b[0m\n\u001b[0;32m     39\u001b[0m \u001b[1;33m\u001b[0m\u001b[0m\n\u001b[1;32m---> 40\u001b[1;33m     \u001b[0mtensor\u001b[0m\u001b[1;33m[\u001b[0m\u001b[0mnth_turn\u001b[0m\u001b[1;33m]\u001b[0m \u001b[1;33m=\u001b[0m \u001b[0mturn_tensor\u001b[0m\u001b[1;33m.\u001b[0m\u001b[0mclone\u001b[0m\u001b[1;33m(\u001b[0m\u001b[1;33m)\u001b[0m\u001b[1;33m.\u001b[0m\u001b[0mdetach\u001b[0m\u001b[1;33m(\u001b[0m\u001b[1;33m)\u001b[0m\u001b[1;33m\u001b[0m\u001b[1;33m\u001b[0m\u001b[0m\n\u001b[0m\u001b[0;32m     41\u001b[0m     \u001b[0mnth_turn\u001b[0m \u001b[1;33m+=\u001b[0m \u001b[1;36m1\u001b[0m\u001b[1;33m\u001b[0m\u001b[1;33m\u001b[0m\u001b[0m\n\u001b[0;32m     42\u001b[0m \u001b[1;33m\u001b[0m\u001b[0m\n",
      "\u001b[1;31mNameError\u001b[0m: name 'tensor' is not defined"
     ]
    }
   ],
   "source": [
    "g = gameToTensor(data_np[0])\n",
    "t = gameTurnToTensor(data_np[0])\n",
    "print(t[0][0])"
   ]
  },
  {
   "cell_type": "code",
   "execution_count": null,
   "metadata": {},
   "outputs": [],
   "source": []
  }
 ]
}